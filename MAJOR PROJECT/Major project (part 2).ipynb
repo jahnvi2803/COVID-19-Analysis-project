{
 "cells": [
  {
   "cell_type": "markdown",
   "metadata": {},
   "source": [
    "# PREDICTION OF PATIENT STATUS\n",
    "    "
   ]
  },
  {
   "cell_type": "code",
   "execution_count": 3,
   "metadata": {},
   "outputs": [],
   "source": [
    "import numpy as np\n",
    "import matplotlib.pyplot as plt\n",
    "import pandas as pd\n",
    "import seaborn as sns\n",
    "import matplotlib.cm as cm\n",
    "from matplotlib.colors import Normalize\n",
    "from numpy.random import rand  "
   ]
  },
  {
   "cell_type": "code",
   "execution_count": 4,
   "metadata": {},
   "outputs": [
    {
     "data": {
      "text/html": [
       "<div>\n",
       "<style scoped>\n",
       "    .dataframe tbody tr th:only-of-type {\n",
       "        vertical-align: middle;\n",
       "    }\n",
       "\n",
       "    .dataframe tbody tr th {\n",
       "        vertical-align: top;\n",
       "    }\n",
       "\n",
       "    .dataframe thead th {\n",
       "        text-align: right;\n",
       "    }\n",
       "</style>\n",
       "<table border=\"1\" class=\"dataframe\">\n",
       "  <thead>\n",
       "    <tr style=\"text-align: right;\">\n",
       "      <th></th>\n",
       "      <th>Date</th>\n",
       "      <th>Time</th>\n",
       "      <th>State/UnionTerritory</th>\n",
       "      <th>ConfirmedIndianNational</th>\n",
       "      <th>Gender</th>\n",
       "      <th>ConfirmedForeignNational</th>\n",
       "      <th>Age</th>\n",
       "      <th>Serious_symptoms</th>\n",
       "      <th>Less_common_symptoms</th>\n",
       "      <th>Most_common_symptoms</th>\n",
       "      <th>Severity</th>\n",
       "      <th>Patient_Status</th>\n",
       "    </tr>\n",
       "  </thead>\n",
       "  <tbody>\n",
       "    <tr>\n",
       "      <th>0</th>\n",
       "      <td>30/01/20</td>\n",
       "      <td>6:00 PM</td>\n",
       "      <td>Kerala</td>\n",
       "      <td>1.0</td>\n",
       "      <td>Male</td>\n",
       "      <td>0.0</td>\n",
       "      <td>5.0</td>\n",
       "      <td>difficulty breathing or shortness of breath</td>\n",
       "      <td>diarrhoea</td>\n",
       "      <td>fever</td>\n",
       "      <td>Seviour</td>\n",
       "      <td>Covid</td>\n",
       "    </tr>\n",
       "    <tr>\n",
       "      <th>1</th>\n",
       "      <td>31/01/20</td>\n",
       "      <td>6:00 PM</td>\n",
       "      <td>Kerala</td>\n",
       "      <td>1.0</td>\n",
       "      <td>Female</td>\n",
       "      <td>0.0</td>\n",
       "      <td>8.0</td>\n",
       "      <td>chest pain or pressure</td>\n",
       "      <td>sore throat</td>\n",
       "      <td>tiredness</td>\n",
       "      <td>Mild</td>\n",
       "      <td>flu</td>\n",
       "    </tr>\n",
       "    <tr>\n",
       "      <th>2</th>\n",
       "      <td>02-01-2020</td>\n",
       "      <td>6:00 PM</td>\n",
       "      <td>Kerala</td>\n",
       "      <td>2.0</td>\n",
       "      <td>Male</td>\n",
       "      <td>0.0</td>\n",
       "      <td>39.0</td>\n",
       "      <td>loss of speech or movement</td>\n",
       "      <td>conjunctivitis</td>\n",
       "      <td>tiredness</td>\n",
       "      <td>Seviour</td>\n",
       "      <td>flu</td>\n",
       "    </tr>\n",
       "    <tr>\n",
       "      <th>3</th>\n",
       "      <td>02-02-2020</td>\n",
       "      <td>6:00 PM</td>\n",
       "      <td>Kerala</td>\n",
       "      <td>3.0</td>\n",
       "      <td>Female</td>\n",
       "      <td>0.0</td>\n",
       "      <td>63.0</td>\n",
       "      <td>loss of speech or movement</td>\n",
       "      <td>sore throat</td>\n",
       "      <td>tiredness</td>\n",
       "      <td>Seviour</td>\n",
       "      <td>Covid</td>\n",
       "    </tr>\n",
       "    <tr>\n",
       "      <th>4</th>\n",
       "      <td>02-03-2020</td>\n",
       "      <td>6:00 PM</td>\n",
       "      <td>Kerala</td>\n",
       "      <td>3.0</td>\n",
       "      <td>Male</td>\n",
       "      <td>0.0</td>\n",
       "      <td>6.0</td>\n",
       "      <td>chest pain or pressure</td>\n",
       "      <td>a rash on skin, or discolouration of fingers o...</td>\n",
       "      <td>dry cough</td>\n",
       "      <td>Moderate</td>\n",
       "      <td>flu</td>\n",
       "    </tr>\n",
       "  </tbody>\n",
       "</table>\n",
       "</div>"
      ],
      "text/plain": [
       "         Date     Time State/UnionTerritory  ConfirmedIndianNational  Gender  \\\n",
       "0    30/01/20  6:00 PM               Kerala                      1.0   Male    \n",
       "1    31/01/20  6:00 PM               Kerala                      1.0  Female   \n",
       "2  02-01-2020  6:00 PM               Kerala                      2.0   Male    \n",
       "3  02-02-2020  6:00 PM               Kerala                      3.0  Female   \n",
       "4  02-03-2020  6:00 PM               Kerala                      3.0   Male    \n",
       "\n",
       "   ConfirmedForeignNational   Age  \\\n",
       "0                       0.0   5.0   \n",
       "1                       0.0   8.0   \n",
       "2                       0.0  39.0   \n",
       "3                       0.0  63.0   \n",
       "4                       0.0   6.0   \n",
       "\n",
       "                              Serious_symptoms  \\\n",
       "0  difficulty breathing or shortness of breath   \n",
       "1                       chest pain or pressure   \n",
       "2                   loss of speech or movement   \n",
       "3                   loss of speech or movement   \n",
       "4                       chest pain or pressure   \n",
       "\n",
       "                                Less_common_symptoms Most_common_symptoms  \\\n",
       "0                                          diarrhoea                fever   \n",
       "1                                        sore throat            tiredness   \n",
       "2                                     conjunctivitis            tiredness   \n",
       "3                                        sore throat            tiredness   \n",
       "4  a rash on skin, or discolouration of fingers o...            dry cough   \n",
       "\n",
       "   Severity Patient_Status  \n",
       "0   Seviour          Covid  \n",
       "1      Mild            flu  \n",
       "2   Seviour            flu  \n",
       "3   Seviour          Covid  \n",
       "4  Moderate            flu  "
      ]
     },
     "execution_count": 4,
     "metadata": {},
     "output_type": "execute_result"
    }
   ],
   "source": [
    "data2=pd.read_csv('patient_data_covid.csv')\n",
    "data2.head()"
   ]
  },
  {
   "cell_type": "code",
   "execution_count": 5,
   "metadata": {},
   "outputs": [
    {
     "name": "stderr",
     "output_type": "stream",
     "text": [
      "C:\\Users\\jahnvi jain\\anaconda3\\lib\\site-packages\\ipykernel_launcher.py:2: SettingWithCopyWarning: \n",
      "A value is trying to be set on a copy of a slice from a DataFrame\n",
      "\n",
      "See the caveats in the documentation: https://pandas.pydata.org/pandas-docs/stable/user_guide/indexing.html#returning-a-view-versus-a-copy\n",
      "  \n",
      "C:\\Users\\jahnvi jain\\anaconda3\\lib\\site-packages\\ipykernel_launcher.py:3: SettingWithCopyWarning: \n",
      "A value is trying to be set on a copy of a slice from a DataFrame\n",
      "\n",
      "See the caveats in the documentation: https://pandas.pydata.org/pandas-docs/stable/user_guide/indexing.html#returning-a-view-versus-a-copy\n",
      "  This is separate from the ipykernel package so we can avoid doing imports until\n",
      "C:\\Users\\jahnvi jain\\anaconda3\\lib\\site-packages\\ipykernel_launcher.py:5: SettingWithCopyWarning: \n",
      "A value is trying to be set on a copy of a slice from a DataFrame\n",
      "\n",
      "See the caveats in the documentation: https://pandas.pydata.org/pandas-docs/stable/user_guide/indexing.html#returning-a-view-versus-a-copy\n",
      "  \"\"\"\n",
      "C:\\Users\\jahnvi jain\\anaconda3\\lib\\site-packages\\ipykernel_launcher.py:6: SettingWithCopyWarning: \n",
      "A value is trying to be set on a copy of a slice from a DataFrame\n",
      "\n",
      "See the caveats in the documentation: https://pandas.pydata.org/pandas-docs/stable/user_guide/indexing.html#returning-a-view-versus-a-copy\n",
      "  \n",
      "C:\\Users\\jahnvi jain\\anaconda3\\lib\\site-packages\\ipykernel_launcher.py:7: SettingWithCopyWarning: \n",
      "A value is trying to be set on a copy of a slice from a DataFrame\n",
      "\n",
      "See the caveats in the documentation: https://pandas.pydata.org/pandas-docs/stable/user_guide/indexing.html#returning-a-view-versus-a-copy\n",
      "  import sys\n",
      "C:\\Users\\jahnvi jain\\anaconda3\\lib\\site-packages\\ipykernel_launcher.py:9: SettingWithCopyWarning: \n",
      "A value is trying to be set on a copy of a slice from a DataFrame\n",
      "\n",
      "See the caveats in the documentation: https://pandas.pydata.org/pandas-docs/stable/user_guide/indexing.html#returning-a-view-versus-a-copy\n",
      "  if __name__ == '__main__':\n",
      "C:\\Users\\jahnvi jain\\anaconda3\\lib\\site-packages\\ipykernel_launcher.py:10: SettingWithCopyWarning: \n",
      "A value is trying to be set on a copy of a slice from a DataFrame\n",
      "\n",
      "See the caveats in the documentation: https://pandas.pydata.org/pandas-docs/stable/user_guide/indexing.html#returning-a-view-versus-a-copy\n",
      "  # Remove the CWD from sys.path while we load stuff.\n",
      "C:\\Users\\jahnvi jain\\anaconda3\\lib\\site-packages\\ipykernel_launcher.py:11: SettingWithCopyWarning: \n",
      "A value is trying to be set on a copy of a slice from a DataFrame\n",
      "\n",
      "See the caveats in the documentation: https://pandas.pydata.org/pandas-docs/stable/user_guide/indexing.html#returning-a-view-versus-a-copy\n",
      "  # This is added back by InteractiveShellApp.init_path()\n",
      "C:\\Users\\jahnvi jain\\anaconda3\\lib\\site-packages\\ipykernel_launcher.py:12: SettingWithCopyWarning: \n",
      "A value is trying to be set on a copy of a slice from a DataFrame\n",
      "\n",
      "See the caveats in the documentation: https://pandas.pydata.org/pandas-docs/stable/user_guide/indexing.html#returning-a-view-versus-a-copy\n",
      "  if sys.path[0] == '':\n",
      "C:\\Users\\jahnvi jain\\anaconda3\\lib\\site-packages\\ipykernel_launcher.py:13: SettingWithCopyWarning: \n",
      "A value is trying to be set on a copy of a slice from a DataFrame\n",
      "\n",
      "See the caveats in the documentation: https://pandas.pydata.org/pandas-docs/stable/user_guide/indexing.html#returning-a-view-versus-a-copy\n",
      "  del sys.path[0]\n",
      "C:\\Users\\jahnvi jain\\anaconda3\\lib\\site-packages\\ipykernel_launcher.py:14: SettingWithCopyWarning: \n",
      "A value is trying to be set on a copy of a slice from a DataFrame\n",
      "\n",
      "See the caveats in the documentation: https://pandas.pydata.org/pandas-docs/stable/user_guide/indexing.html#returning-a-view-versus-a-copy\n",
      "  \n",
      "C:\\Users\\jahnvi jain\\anaconda3\\lib\\site-packages\\ipykernel_launcher.py:15: SettingWithCopyWarning: \n",
      "A value is trying to be set on a copy of a slice from a DataFrame\n",
      "\n",
      "See the caveats in the documentation: https://pandas.pydata.org/pandas-docs/stable/user_guide/indexing.html#returning-a-view-versus-a-copy\n",
      "  from ipykernel import kernelapp as app\n",
      "C:\\Users\\jahnvi jain\\anaconda3\\lib\\site-packages\\ipykernel_launcher.py:17: SettingWithCopyWarning: \n",
      "A value is trying to be set on a copy of a slice from a DataFrame\n",
      "\n",
      "See the caveats in the documentation: https://pandas.pydata.org/pandas-docs/stable/user_guide/indexing.html#returning-a-view-versus-a-copy\n",
      "C:\\Users\\jahnvi jain\\anaconda3\\lib\\site-packages\\ipykernel_launcher.py:18: SettingWithCopyWarning: \n",
      "A value is trying to be set on a copy of a slice from a DataFrame\n",
      "\n",
      "See the caveats in the documentation: https://pandas.pydata.org/pandas-docs/stable/user_guide/indexing.html#returning-a-view-versus-a-copy\n",
      "C:\\Users\\jahnvi jain\\anaconda3\\lib\\site-packages\\ipykernel_launcher.py:19: SettingWithCopyWarning: \n",
      "A value is trying to be set on a copy of a slice from a DataFrame\n",
      "\n",
      "See the caveats in the documentation: https://pandas.pydata.org/pandas-docs/stable/user_guide/indexing.html#returning-a-view-versus-a-copy\n",
      "C:\\Users\\jahnvi jain\\anaconda3\\lib\\site-packages\\ipykernel_launcher.py:21: SettingWithCopyWarning: \n",
      "A value is trying to be set on a copy of a slice from a DataFrame\n",
      "\n",
      "See the caveats in the documentation: https://pandas.pydata.org/pandas-docs/stable/user_guide/indexing.html#returning-a-view-versus-a-copy\n",
      "C:\\Users\\jahnvi jain\\anaconda3\\lib\\site-packages\\ipykernel_launcher.py:22: SettingWithCopyWarning: \n",
      "A value is trying to be set on a copy of a slice from a DataFrame\n",
      "\n",
      "See the caveats in the documentation: https://pandas.pydata.org/pandas-docs/stable/user_guide/indexing.html#returning-a-view-versus-a-copy\n",
      "C:\\Users\\jahnvi jain\\anaconda3\\lib\\site-packages\\ipykernel_launcher.py:23: SettingWithCopyWarning: \n",
      "A value is trying to be set on a copy of a slice from a DataFrame\n",
      "\n",
      "See the caveats in the documentation: https://pandas.pydata.org/pandas-docs/stable/user_guide/indexing.html#returning-a-view-versus-a-copy\n",
      "C:\\Users\\jahnvi jain\\anaconda3\\lib\\site-packages\\ipykernel_launcher.py:25: SettingWithCopyWarning: \n",
      "A value is trying to be set on a copy of a slice from a DataFrame\n",
      "\n",
      "See the caveats in the documentation: https://pandas.pydata.org/pandas-docs/stable/user_guide/indexing.html#returning-a-view-versus-a-copy\n",
      "C:\\Users\\jahnvi jain\\anaconda3\\lib\\site-packages\\ipykernel_launcher.py:26: SettingWithCopyWarning: \n",
      "A value is trying to be set on a copy of a slice from a DataFrame\n",
      "\n",
      "See the caveats in the documentation: https://pandas.pydata.org/pandas-docs/stable/user_guide/indexing.html#returning-a-view-versus-a-copy\n"
     ]
    }
   ],
   "source": [
    "#ENCODING THE DATA WITH INTEGER VALUES\n",
    "data2.Gender[data2.Gender=='Male ']=1\n",
    "data2.Gender[data2.Gender=='Female']=2\n",
    "\n",
    "data2.Serious_symptoms[data2.Serious_symptoms=='difficulty breathing or shortness of breath']=1\n",
    "data2.Serious_symptoms[data2.Serious_symptoms=='chest pain or pressure']=2\n",
    "data2.Serious_symptoms[data2.Serious_symptoms=='loss of speech or movement']=3\n",
    "\n",
    "data2.Less_common_symptoms[data2.Less_common_symptoms=='diarrhoea']=1\n",
    "data2.Less_common_symptoms[data2.Less_common_symptoms=='sore throat']=2\n",
    "data2.Less_common_symptoms[data2.Less_common_symptoms=='conjunctivitis']=3\n",
    "data2.Less_common_symptoms[data2.Less_common_symptoms=='a rash on skin, or discolouration of fingers or toes']=4\n",
    "data2.Less_common_symptoms[data2.Less_common_symptoms=='loss of taste or smell']=5\n",
    "data2.Less_common_symptoms[data2.Less_common_symptoms=='aches and pains']=6\n",
    "data2.Less_common_symptoms[data2.Less_common_symptoms=='headache']=7\n",
    "\n",
    "data2.Most_common_symptoms[data2.Most_common_symptoms=='fever']=1\n",
    "data2.Most_common_symptoms[data2.Most_common_symptoms=='tiredness']=2\n",
    "data2.Most_common_symptoms[data2.Most_common_symptoms=='dry cough']=3\n",
    "\n",
    "data2.Severity[data2.Severity=='Seviour']=1\n",
    "data2.Severity[data2.Severity=='Mild']=2\n",
    "data2.Severity[data2.Severity=='Moderate']=3\n",
    "\n",
    "data2.Patient_Status[data2.Patient_Status=='Covid']=1\n",
    "data2.Patient_Status[data2.Patient_Status=='flu']=2\n",
    "\n",
    "data2 = data2[pd.to_numeric(data2['ConfirmedIndianNational']).notnull()]\n",
    "data2['ConfirmedIndianNational'] =data2['ConfirmedIndianNational'].astype('int')  \n",
    "data2 = data2[pd.to_numeric(data2['Gender']).notnull()]  \n",
    "data2['Gender'] =data2['Gender'].astype('int')  \n",
    "data2 = data2[pd.to_numeric(data2['Serious_symptoms']).notnull()]  \n",
    "data2['Serious_symptoms'] =data2['Serious_symptoms'].astype('int') \n",
    "data2 = data2[pd.to_numeric(data2['Less_common_symptoms']).notnull()]  \n",
    "data2['Less_common_symptoms'] =data2['Less_common_symptoms'].astype('int') \n",
    "data2 = data2[pd.to_numeric(data2['Serious_symptoms']).notnull()]  \n",
    "data2['Most_common_symptoms'] =data2['Most_common_symptoms'].astype('int') \n",
    "data2 = data2[pd.to_numeric(data2['Most_common_symptoms']).notnull()]  \n",
    "data2['Severity'] =data2['Severity'].astype('int') \n",
    "data2 = data2[pd.to_numeric(data2['Patient_Status']).notnull()]  \n",
    "data2['Patient_Status'] =data2['Patient_Status'].astype('int') \n"
   ]
  },
  {
   "cell_type": "code",
   "execution_count": 6,
   "metadata": {},
   "outputs": [
    {
     "data": {
      "text/html": [
       "<div>\n",
       "<style scoped>\n",
       "    .dataframe tbody tr th:only-of-type {\n",
       "        vertical-align: middle;\n",
       "    }\n",
       "\n",
       "    .dataframe tbody tr th {\n",
       "        vertical-align: top;\n",
       "    }\n",
       "\n",
       "    .dataframe thead th {\n",
       "        text-align: right;\n",
       "    }\n",
       "</style>\n",
       "<table border=\"1\" class=\"dataframe\">\n",
       "  <thead>\n",
       "    <tr style=\"text-align: right;\">\n",
       "      <th></th>\n",
       "      <th>Date</th>\n",
       "      <th>Time</th>\n",
       "      <th>State/UnionTerritory</th>\n",
       "      <th>ConfirmedIndianNational</th>\n",
       "      <th>Gender</th>\n",
       "      <th>ConfirmedForeignNational</th>\n",
       "      <th>Age</th>\n",
       "      <th>Serious_symptoms</th>\n",
       "      <th>Less_common_symptoms</th>\n",
       "      <th>Most_common_symptoms</th>\n",
       "      <th>Severity</th>\n",
       "      <th>Patient_Status</th>\n",
       "    </tr>\n",
       "  </thead>\n",
       "  <tbody>\n",
       "    <tr>\n",
       "      <th>0</th>\n",
       "      <td>30/01/20</td>\n",
       "      <td>6:00 PM</td>\n",
       "      <td>Kerala</td>\n",
       "      <td>1</td>\n",
       "      <td>1</td>\n",
       "      <td>0.0</td>\n",
       "      <td>5.0</td>\n",
       "      <td>1</td>\n",
       "      <td>1</td>\n",
       "      <td>1</td>\n",
       "      <td>1</td>\n",
       "      <td>1</td>\n",
       "    </tr>\n",
       "    <tr>\n",
       "      <th>1</th>\n",
       "      <td>31/01/20</td>\n",
       "      <td>6:00 PM</td>\n",
       "      <td>Kerala</td>\n",
       "      <td>1</td>\n",
       "      <td>2</td>\n",
       "      <td>0.0</td>\n",
       "      <td>8.0</td>\n",
       "      <td>2</td>\n",
       "      <td>2</td>\n",
       "      <td>2</td>\n",
       "      <td>2</td>\n",
       "      <td>2</td>\n",
       "    </tr>\n",
       "    <tr>\n",
       "      <th>2</th>\n",
       "      <td>02-01-2020</td>\n",
       "      <td>6:00 PM</td>\n",
       "      <td>Kerala</td>\n",
       "      <td>2</td>\n",
       "      <td>1</td>\n",
       "      <td>0.0</td>\n",
       "      <td>39.0</td>\n",
       "      <td>3</td>\n",
       "      <td>3</td>\n",
       "      <td>2</td>\n",
       "      <td>1</td>\n",
       "      <td>2</td>\n",
       "    </tr>\n",
       "    <tr>\n",
       "      <th>3</th>\n",
       "      <td>02-02-2020</td>\n",
       "      <td>6:00 PM</td>\n",
       "      <td>Kerala</td>\n",
       "      <td>3</td>\n",
       "      <td>2</td>\n",
       "      <td>0.0</td>\n",
       "      <td>63.0</td>\n",
       "      <td>3</td>\n",
       "      <td>2</td>\n",
       "      <td>2</td>\n",
       "      <td>1</td>\n",
       "      <td>1</td>\n",
       "    </tr>\n",
       "    <tr>\n",
       "      <th>4</th>\n",
       "      <td>02-03-2020</td>\n",
       "      <td>6:00 PM</td>\n",
       "      <td>Kerala</td>\n",
       "      <td>3</td>\n",
       "      <td>1</td>\n",
       "      <td>0.0</td>\n",
       "      <td>6.0</td>\n",
       "      <td>2</td>\n",
       "      <td>4</td>\n",
       "      <td>3</td>\n",
       "      <td>3</td>\n",
       "      <td>2</td>\n",
       "    </tr>\n",
       "    <tr>\n",
       "      <th>...</th>\n",
       "      <td>...</td>\n",
       "      <td>...</td>\n",
       "      <td>...</td>\n",
       "      <td>...</td>\n",
       "      <td>...</td>\n",
       "      <td>...</td>\n",
       "      <td>...</td>\n",
       "      <td>...</td>\n",
       "      <td>...</td>\n",
       "      <td>...</td>\n",
       "      <td>...</td>\n",
       "      <td>...</td>\n",
       "    </tr>\n",
       "    <tr>\n",
       "      <th>3130</th>\n",
       "      <td>17/06/20</td>\n",
       "      <td>8:00 AM</td>\n",
       "      <td>Tripura</td>\n",
       "      <td>0</td>\n",
       "      <td>1</td>\n",
       "      <td>0.0</td>\n",
       "      <td>87.0</td>\n",
       "      <td>2</td>\n",
       "      <td>3</td>\n",
       "      <td>3</td>\n",
       "      <td>2</td>\n",
       "      <td>1</td>\n",
       "    </tr>\n",
       "    <tr>\n",
       "      <th>3131</th>\n",
       "      <td>17/06/20</td>\n",
       "      <td>8:00 AM</td>\n",
       "      <td>Uttarakhand</td>\n",
       "      <td>0</td>\n",
       "      <td>2</td>\n",
       "      <td>0.0</td>\n",
       "      <td>78.0</td>\n",
       "      <td>2</td>\n",
       "      <td>4</td>\n",
       "      <td>3</td>\n",
       "      <td>1</td>\n",
       "      <td>2</td>\n",
       "    </tr>\n",
       "    <tr>\n",
       "      <th>3132</th>\n",
       "      <td>17/06/20</td>\n",
       "      <td>8:00 AM</td>\n",
       "      <td>Uttar Pradesh</td>\n",
       "      <td>0</td>\n",
       "      <td>1</td>\n",
       "      <td>0.0</td>\n",
       "      <td>69.0</td>\n",
       "      <td>3</td>\n",
       "      <td>3</td>\n",
       "      <td>1</td>\n",
       "      <td>2</td>\n",
       "      <td>2</td>\n",
       "    </tr>\n",
       "    <tr>\n",
       "      <th>3133</th>\n",
       "      <td>17/06/20</td>\n",
       "      <td>8:00 AM</td>\n",
       "      <td>West Bengal</td>\n",
       "      <td>0</td>\n",
       "      <td>2</td>\n",
       "      <td>0.0</td>\n",
       "      <td>80.0</td>\n",
       "      <td>2</td>\n",
       "      <td>7</td>\n",
       "      <td>2</td>\n",
       "      <td>2</td>\n",
       "      <td>2</td>\n",
       "    </tr>\n",
       "    <tr>\n",
       "      <th>3134</th>\n",
       "      <td>17-06-2020</td>\n",
       "      <td>8:00 AM</td>\n",
       "      <td>Cases being reassigned to states</td>\n",
       "      <td>0</td>\n",
       "      <td>2</td>\n",
       "      <td>0.0</td>\n",
       "      <td>45.0</td>\n",
       "      <td>2</td>\n",
       "      <td>5</td>\n",
       "      <td>2</td>\n",
       "      <td>3</td>\n",
       "      <td>1</td>\n",
       "    </tr>\n",
       "  </tbody>\n",
       "</table>\n",
       "<p>3135 rows × 12 columns</p>\n",
       "</div>"
      ],
      "text/plain": [
       "            Date     Time              State/UnionTerritory  \\\n",
       "0       30/01/20  6:00 PM                            Kerala   \n",
       "1       31/01/20  6:00 PM                            Kerala   \n",
       "2     02-01-2020  6:00 PM                            Kerala   \n",
       "3     02-02-2020  6:00 PM                            Kerala   \n",
       "4     02-03-2020  6:00 PM                            Kerala   \n",
       "...          ...      ...                               ...   \n",
       "3130    17/06/20  8:00 AM                           Tripura   \n",
       "3131    17/06/20  8:00 AM                       Uttarakhand   \n",
       "3132    17/06/20  8:00 AM                     Uttar Pradesh   \n",
       "3133    17/06/20  8:00 AM                       West Bengal   \n",
       "3134  17-06-2020  8:00 AM  Cases being reassigned to states   \n",
       "\n",
       "      ConfirmedIndianNational  Gender  ConfirmedForeignNational   Age  \\\n",
       "0                           1       1                       0.0   5.0   \n",
       "1                           1       2                       0.0   8.0   \n",
       "2                           2       1                       0.0  39.0   \n",
       "3                           3       2                       0.0  63.0   \n",
       "4                           3       1                       0.0   6.0   \n",
       "...                       ...     ...                       ...   ...   \n",
       "3130                        0       1                       0.0  87.0   \n",
       "3131                        0       2                       0.0  78.0   \n",
       "3132                        0       1                       0.0  69.0   \n",
       "3133                        0       2                       0.0  80.0   \n",
       "3134                        0       2                       0.0  45.0   \n",
       "\n",
       "      Serious_symptoms  Less_common_symptoms  Most_common_symptoms  Severity  \\\n",
       "0                    1                     1                     1         1   \n",
       "1                    2                     2                     2         2   \n",
       "2                    3                     3                     2         1   \n",
       "3                    3                     2                     2         1   \n",
       "4                    2                     4                     3         3   \n",
       "...                ...                   ...                   ...       ...   \n",
       "3130                 2                     3                     3         2   \n",
       "3131                 2                     4                     3         1   \n",
       "3132                 3                     3                     1         2   \n",
       "3133                 2                     7                     2         2   \n",
       "3134                 2                     5                     2         3   \n",
       "\n",
       "      Patient_Status  \n",
       "0                  1  \n",
       "1                  2  \n",
       "2                  2  \n",
       "3                  1  \n",
       "4                  2  \n",
       "...              ...  \n",
       "3130               1  \n",
       "3131               2  \n",
       "3132               2  \n",
       "3133               2  \n",
       "3134               1  \n",
       "\n",
       "[3135 rows x 12 columns]"
      ]
     },
     "execution_count": 6,
     "metadata": {},
     "output_type": "execute_result"
    }
   ],
   "source": [
    "#AFTER ENCODING THE DATA\n",
    "data2"
   ]
  },
  {
   "cell_type": "code",
   "execution_count": 7,
   "metadata": {},
   "outputs": [
    {
     "data": {
      "text/plain": [
       "Date                         object\n",
       "Time                         object\n",
       "State/UnionTerritory         object\n",
       "ConfirmedIndianNational       int32\n",
       "Gender                        int32\n",
       "ConfirmedForeignNational    float64\n",
       "Age                         float64\n",
       "Serious_symptoms              int32\n",
       "Less_common_symptoms          int32\n",
       "Most_common_symptoms          int32\n",
       "Severity                      int32\n",
       "Patient_Status                int32\n",
       "dtype: object"
      ]
     },
     "execution_count": 7,
     "metadata": {},
     "output_type": "execute_result"
    }
   ],
   "source": [
    "data2.dtypes"
   ]
  },
  {
   "cell_type": "code",
   "execution_count": 8,
   "metadata": {},
   "outputs": [],
   "source": [
    "#SPITING FEATURES AND PATIENT STATUS\n",
    "feature_data = data2[['Gender', 'Age', 'Serious_symptoms', 'Less_common_symptoms', 'Most_common_symptoms', 'Severity']]\n",
    "X = np.asarray(feature_data)  "
   ]
  },
  {
   "cell_type": "code",
   "execution_count": 9,
   "metadata": {},
   "outputs": [
    {
     "data": {
      "text/plain": [
       "array([1, 2, 2, 1, 2])"
      ]
     },
     "execution_count": 9,
     "metadata": {},
     "output_type": "execute_result"
    }
   ],
   "source": [
    "data2['Patient_Status'] = data2['Patient_Status'].astype('int')  \n",
    "y = np.asarray(data2['Patient_Status'])\n",
    "y [0:5]"
   ]
  },
  {
   "cell_type": "code",
   "execution_count": 10,
   "metadata": {},
   "outputs": [
    {
     "name": "stdout",
     "output_type": "stream",
     "text": [
      "Train set: (2508, 6) (2508,)\n",
      "Test set: (627, 6) (627,)\n"
     ]
    }
   ],
   "source": [
    "# SPLITTING OF DATA INTO TRAINING AND TEST DATA\n",
    "from sklearn import preprocessing  \n",
    "from sklearn.model_selection import train_test_split\n",
    "X_train, X_test, y_train, y_test = train_test_split( X, y, test_size=0.2,random_state=4)\n",
    "print ('Train set:', X_train.shape,  y_train.shape)\n",
    "print ('Test set:', X_test.shape,  y_test.shape)"
   ]
  },
  {
   "cell_type": "code",
   "execution_count": 11,
   "metadata": {},
   "outputs": [
    {
     "name": "stdout",
     "output_type": "stream",
     "text": [
      "Accuracy of K-NN classifier on training set: 0.69\n"
     ]
    }
   ],
   "source": [
    "# KNN MODEL FOR PREDICTION OF PATIENT STATUS\n",
    "from sklearn.neighbors import KNeighborsClassifier\n",
    "knn = KNeighborsClassifier()\n",
    "knn.fit(X_train, y_train)\n",
    "y_pred = knn.predict(X_test)\n",
    "y_pred [0:10]\n",
    "print('Accuracy of K-NN classifier on training set: {:.2f}'\n",
    "     .format(knn.score(X_train, y_train)))"
   ]
  },
  {
   "cell_type": "code",
   "execution_count": 12,
   "metadata": {},
   "outputs": [
    {
     "data": {
      "text/plain": [
       "array([False,  True,  True,  True,  True,  True, False,  True,  True,\n",
       "        True, False,  True, False, False, False,  True,  True,  True,\n",
       "        True, False, False,  True, False,  True, False, False, False,\n",
       "        True, False, False,  True,  True, False,  True, False, False,\n",
       "       False, False, False,  True,  True,  True,  True,  True, False,\n",
       "        True,  True, False, False,  True, False, False, False, False,\n",
       "       False, False, False,  True,  True, False, False, False, False,\n",
       "        True, False, False,  True,  True,  True,  True])"
      ]
     },
     "execution_count": 12,
     "metadata": {},
     "output_type": "execute_result"
    }
   ],
   "source": [
    "y_pred [0:70]==y_test[0:70]"
   ]
  },
  {
   "cell_type": "code",
   "execution_count": 13,
   "metadata": {},
   "outputs": [
    {
     "name": "stdout",
     "output_type": "stream",
     "text": [
      "Confusion matrix\n",
      "[[145 154]\n",
      " [155 173]]\n"
     ]
    },
    {
     "data": {
      "image/png": "[encoded data removed]",
      "text/plain": [
       "<Figure size 432x288 with 2 Axes>"
      ]
     },
     "metadata": {
      "needs_background": "light"
     },
     "output_type": "display_data"
    }
   ],
   "source": [
    "#BUILING CONFUSION MATRIX\n",
    "from sklearn.metrics import classification_report, confusion_matrix\n",
    "import itertools\n",
    "\n",
    "def plot_confusion_matrix(cm, classes,normalize=False,title='Confusion matrix',cmap=plt.cm.Greys):\n",
    "    \n",
    "\n",
    "    plt.imshow(cm, interpolation='nearest', cmap=cmap)\n",
    "    plt.title(title)\n",
    "    plt.colorbar()\n",
    "    tick_marks = np.arange(len(classes))\n",
    "    plt.xticks(tick_marks, classes)\n",
    "    plt.yticks(tick_marks, classes)\n",
    "\n",
    "    fmt = '.2f' if normalize else 'd'\n",
    "    thresh = (cm.max()/ 2)+70\n",
    "    for i, j in itertools.product(range(cm.shape[0]), range(cm.shape[1])):\n",
    "        plt.text(j, i, format(cm[i, j], fmt),\n",
    "                 horizontalalignment=\"center\",\n",
    "                 color=\"white\" if cm[i, j] > thresh else \"black\")\n",
    "\n",
    "    plt.tight_layout()\n",
    "    plt.ylabel('True label')\n",
    "    plt.xlabel('Predicted label')  # explained in the end\n",
    "\n",
    "\n",
    "cnf_matrix = confusion_matrix(y_test, y_pred, labels=[1,2])\n",
    "print(\"Confusion matrix\")\n",
    "\n",
    "print(cnf_matrix)\n",
    "\n",
    "plt.figure()\n",
    "plot_confusion_matrix(cnf_matrix, classes=['COVID(1)','FLU(2)'],title='Confusion matrix')\n"
   ]
  },
  {
   "cell_type": "markdown",
   "metadata": {},
   "source": [
    "# SEVERITY GAUGING CLASSIFIER"
   ]
  },
  {
   "cell_type": "code",
   "execution_count": 14,
   "metadata": {},
   "outputs": [
    {
     "data": {
      "text/plain": [
       "array([[ 1.,  5.,  1.,  1.,  1.,  1.],\n",
       "       [ 2.,  8.,  2.,  2.,  2.,  2.],\n",
       "       [ 1., 39.,  3.,  3.,  2.,  1.],\n",
       "       [ 2., 63.,  3.,  2.,  2.,  1.],\n",
       "       [ 1.,  6.,  2.,  4.,  3.,  3.]])"
      ]
     },
     "execution_count": 14,
     "metadata": {},
     "output_type": "execute_result"
    }
   ],
   "source": [
    "feature_data2 = data2[['Gender', 'Age', 'Serious_symptoms', 'Less_common_symptoms', 'Most_common_symptoms']]\n",
    "X = np.asarray(feature_data)  \n",
    "X[0:5]"
   ]
  },
  {
   "cell_type": "code",
   "execution_count": 15,
   "metadata": {},
   "outputs": [
    {
     "data": {
      "text/plain": [
       "array([1, 2, 1, 1, 3])"
      ]
     },
     "execution_count": 15,
     "metadata": {},
     "output_type": "execute_result"
    }
   ],
   "source": [
    "data2['Severity'] = data2['Severity'].astype('int')  \n",
    "y = np.asarray(data2['Severity'])\n",
    "y [0:5]"
   ]
  },
  {
   "cell_type": "code",
   "execution_count": 16,
   "metadata": {},
   "outputs": [
    {
     "name": "stdout",
     "output_type": "stream",
     "text": [
      "Train set: (2508, 6) (2508,)\n",
      "Test set: (627, 6) (627,)\n"
     ]
    }
   ],
   "source": [
    "from sklearn import preprocessing   \n",
    "from sklearn.model_selection import train_test_split\n",
    "X_train, X_test, y_train, y_test = train_test_split( X, y, test_size=0.2,random_state=4)\n",
    "print ('Train set:', X_train.shape,  y_train.shape)\n",
    "print ('Test set:', X_test.shape,  y_test.shape)"
   ]
  },
  {
   "cell_type": "code",
   "execution_count": 17,
   "metadata": {},
   "outputs": [
    {
     "name": "stdout",
     "output_type": "stream",
     "text": [
      "Accuracy of K-NN classifier on training set: 0.88\n"
     ]
    }
   ],
   "source": [
    "from sklearn.neighbors import KNeighborsClassifier\n",
    "knn = KNeighborsClassifier()\n",
    "knn.fit(X_train, y_train)\n",
    "y_pred = knn.predict(X_test)\n",
    "y_pred [0:10]\n",
    "print('Accuracy of K-NN classifier on training set: {:.2f}'\n",
    "     .format(knn.score(X_train, y_train)))"
   ]
  },
  {
   "cell_type": "code",
   "execution_count": 18,
   "metadata": {},
   "outputs": [
    {
     "data": {
      "text/plain": [
       "array([ True, False,  True,  True,  True,  True,  True, False, False,\n",
       "        True, False,  True,  True,  True,  True, False,  True,  True,\n",
       "        True,  True,  True,  True,  True, False,  True, False,  True,\n",
       "        True,  True,  True, False, False,  True,  True,  True,  True,\n",
       "        True,  True,  True, False,  True, False,  True,  True,  True,\n",
       "        True, False, False, False,  True,  True,  True,  True, False,\n",
       "        True,  True,  True,  True, False,  True,  True,  True,  True,\n",
       "       False,  True,  True,  True, False,  True,  True])"
      ]
     },
     "execution_count": 18,
     "metadata": {},
     "output_type": "execute_result"
    }
   ],
   "source": [
    "y_pred [0:70]==y_test[0:70]"
   ]
  },
  {
   "cell_type": "code",
   "execution_count": 19,
   "metadata": {},
   "outputs": [
    {
     "name": "stdout",
     "output_type": "stream",
     "text": [
      "Confusion matrix\n",
      "[[166  44   0]\n",
      " [ 59 128  29]\n",
      " [  1  46 154]]\n"
     ]
    },
    {
     "data": {
      "image/png": "[encoded data removed]",
      "text/plain": [
       "<Figure size 432x288 with 2 Axes>"
      ]
     },
     "metadata": {
      "needs_background": "light"
     },
     "output_type": "display_data"
    }
   ],
   "source": [
    "from sklearn.metrics import classification_report, confusion_matrix\n",
    "import itertools\n",
    "\n",
    "def plot_confusion_matrix(cm, classes,normalize=False,title='Confusion matrix',cmap=plt.cm.Purples):\n",
    "    \n",
    "    \n",
    "    plt.imshow(cm, interpolation='nearest', cmap=cmap)\n",
    "    plt.title(title)\n",
    "    plt.colorbar()\n",
    "    tick_marks = np.arange(len(classes))\n",
    "    plt.xticks(tick_marks, classes)\n",
    "    plt.yticks(tick_marks, classes)\n",
    "\n",
    "    fmt = '.2f' if normalize else 'd'\n",
    "    thresh = (cm.max()/ 2)+70\n",
    "    for i, j in itertools.product(range(cm.shape[0]), range(cm.shape[1])):\n",
    "        plt.text(j, i, format(cm[i, j], fmt),\n",
    "                 horizontalalignment=\"center\",\n",
    "                 color=\"white\" if cm[i, j] > thresh else \"black\")\n",
    "\n",
    "    plt.tight_layout()\n",
    "    plt.ylabel('True label')\n",
    "    plt.xlabel('Predicted label') \n",
    "\n",
    "\n",
    "cnf_matrix = confusion_matrix(y_test, y_pred, labels=[1,2,3])\n",
    "print(\"Confusion matrix\")\n",
    "print(cnf_matrix)\n",
    "\n",
    "\n",
    "plt.figure()\n",
    "plot_confusion_matrix(cnf_matrix, classes=['SEVIOUR(1)','MILD(2)','MODERATE(3)'],title='Confusion matrix')\\\n"
   ]
  },
  {
   "cell_type": "markdown",
   "metadata": {},
   "source": [
    "# PREDICTOR OF SEVERITY OF COVID -19 BY USER FILLED SYMPTOMS"
   ]
  },
  {
   "cell_type": "code",
   "execution_count": 20,
   "metadata": {},
   "outputs": [
    {
     "name": "stdout",
     "output_type": "stream",
     "text": [
      "HELLO! THIS IS YOUR SELF ASSESSMENT TEST FOR COVID-19 SYMPTOMS, PLEASE ANSWER RESPONSIBLY. \n",
      "Enter your name :prakash\n",
      "Enter your age :80\n",
      "Are you experiencing any of the given problems : YES/NO\n",
      "difficulty breathing or shortness of breath : yes\n",
      "chest pain or pressure : yes\n",
      "loss of speech or movement : no\n",
      "diarrhoea: no\n",
      "sore throat: no\n",
      "conjunctivitis: no\n",
      "a rash on skin, or discolouration of fingers or toes: yes\n",
      "loss of taste or smell: yes\n",
      "aches and pains: no\n",
      "headache: yes\n",
      "fever: yes\n",
      "tiredness: no\n",
      "dry cough: yes\n",
      "-------------------------------------------------------------------------\n",
      "prakash, IT SEEMS THAT YOU ARE HAVING SEVIOUR SYMPTOMS OF COVID , WE HIGHLY RECOMMEND YOU TO CONSULT THE DOCTORS FOR FURTHER TREATMENT!\n"
     ]
    }
   ],
   "source": [
    "def Test():\n",
    "    print('Are you experiencing any of the given problems : YES/NO')\n",
    "    q1=input('difficulty breathing or shortness of breath : ')\n",
    "    q2=input('chest pain or pressure : ')\n",
    "    q3=input('loss of speech or movement : ')\n",
    "    q4=input('diarrhoea: ')\n",
    "    q5=input('sore throat: ')\n",
    "    q6=input('conjunctivitis: ') \n",
    "    q7=input('a rash on skin, or discolouration of fingers or toes: ') \n",
    "    q8=input('loss of taste or smell: ') \n",
    "    q9=input('aches and pains: ') \n",
    "    q10=input('headache: ') \n",
    "    q11=input('fever: ') \n",
    "    q12=input('tiredness: ') \n",
    "    q13=input('dry cough: ') \n",
    "    \n",
    "  \n",
    "    if(age>=60 or age<=10):\n",
    "        if(q1==('yes'or 'YES') or q2==('yes'or 'YES') or q3==('yes'or 'YES')):\n",
    "            flag=1\n",
    "        elif(q4==('yes' or 'YES') and q5==('yes' or 'YES')):\n",
    "            flag=2\n",
    "        elif(q5==('yes' or 'YES') and q6==('yes' or 'YES')):\n",
    "            flag=2\n",
    "        elif(q6==('yes' or 'YES') and q7==('yes' or 'YES')):\n",
    "            flag=2   \n",
    "        elif(q7==('yes' or 'YES') and q8==('yes' or 'YES')):\n",
    "            flag=2\n",
    "        elif(q9==('yes' or 'YES') and q10==('yes' or 'YES')):\n",
    "            flag=2\n",
    "        elif(q10==('yes' or 'YES') and q4==('yes' or 'YES')):\n",
    "            flag=2       \n",
    "        elif(q1==('no'or 'NO') and q2==('no'or 'NO') and q3==('no'or 'NO') and q4==('no'or 'NO') and q5==('no'or 'NO') and q6==('no'or 'NO') and q7==('no'or 'NO') and q8==('no'or 'NO') and q9==('no'or 'NO')and q10==('no'or 'NO') and q11==('no'or 'NO') and q12==('no'or 'NO') and q13==('no'or 'NO') ):\n",
    "            flag=3\n",
    "        else:                \n",
    "            flag=0\n",
    "    else:\n",
    "        if(q1==('yes'or 'YES') or q2==('yes'or 'YES') or q3==('yes'or 'YES')):\n",
    "            flag=1\n",
    "        elif(q4==('yes'or 'YES') or q5==('yes'or 'YES') or q6==('yes'or 'YES') or q7==('yes'or 'YES') or q8==('yes'or 'YES') or q9==('yes'or 'YES') or q10==('yes'or 'YES')):\n",
    "            flag=2\n",
    "        elif(q1==('no'or 'NO') and q2==('no'or 'NO') and q3==('no'or 'NO') and q4==('no'or 'NO') and q5==('no'or 'NO') and q6==('no'or 'NO') and q7==('no'or 'NO') and q8==('no'or 'NO') and q9==('no'or 'NO')and q10==('no'or 'NO') and q11==('no'or 'NO') and q12==('no'or 'NO') and q13==('no'or 'NO') ):\n",
    "            flag=3\n",
    "        else:\n",
    "            flag=0\n",
    "    print('-------------------------------------------------------------------------')\n",
    "    if flag==1:\n",
    "        print(name+', IT SEEMS THAT YOU ARE HAVING SEVIOUR SYMPTOMS OF COVID , WE HIGHLY RECOMMEND YOU TO CONSULT THE DOCTORS FOR FURTHER TREATMENT!')  \n",
    "    elif flag==2:\n",
    "        print(name + ',IT SEEMS THAT YOU ARE HAVING MODERATE SYMPTOMS OF COVID, RECOMMEND TO CONSULT THE DOCTORS FOR TESTIN GAND  GOOD TO TAKE HEALTHY DIET AND BOOST IMMUNITY!')\n",
    "    elif flag==3:\n",
    "        print(name + ',IT SEEMS THAT YOU ARE HAVING MILD SYMPTOMS OF COVID BUT IT IS ALWAYS GOOD TO TAKE HEALTHY DIET AND BOOST IMMUNITY!')\n",
    "    else:\n",
    "        print(name+', IT SEEMS THAT YOU ARE HAVING VERY MILD SYMPTOMS , WE RECOMMEND YOU TO STAY AT HOME AND TAKE A HEALTHY DIET TO BOOST YOUR IMMUNITY!')\n",
    "    \n",
    "    \n",
    "#Main program..\n",
    "print('HELLO! THIS IS YOUR SELF ASSESSMENT TEST FOR COVID-19 SYMPTOMS, PLEASE ANSWER RESPONSIBLY. ')\n",
    "\n",
    "name=input('Enter your name :')\n",
    "age=int(input('Enter your age :')) \n",
    "\n",
    "Test()   #function calling..           \n",
    "#end of main"
   ]
  },
  {
   "cell_type": "code",
   "execution_count": null,
   "metadata": {},
   "outputs": [],
   "source": []
  },
  {
   "cell_type": "code",
   "execution_count": null,
   "metadata": {},
   "outputs": [],
   "source": []
  },
  {
   "cell_type": "code",
   "execution_count": null,
   "metadata": {},
   "outputs": [],
   "source": []
  }
 ],
 "metadata": {
  "kernelspec": {
   "display_name": "Python 3",
   "language": "python",
   "name": "python3"
  },
  "language_info": {
   "codemirror_mode": {
    "name": "ipython",
    "version": 3
   },
   "file_extension": ".py",
   "mimetype": "text/x-python",
   "name": "python",
   "nbconvert_exporter": "python",
   "pygments_lexer": "ipython3",
   "version": "3.7.6"
  }
 },
 "nbformat": 4,
 "nbformat_minor": 4
}
