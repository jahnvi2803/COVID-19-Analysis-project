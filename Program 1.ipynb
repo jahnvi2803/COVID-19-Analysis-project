{
 "cells": [
  {
   "cell_type": "markdown",
   "metadata": {},
   "source": [
    "# Program for detecting symptoms of COVID-19 in a person."
   ]
  },
  {
   "cell_type": "code",
   "execution_count": 9,
   "metadata": {},
   "outputs": [
    {
     "name": "stdout",
     "output_type": "stream",
     "text": [
      "HELLO! THIS IS YOUR SELF ASSESSMENT TEST FOR COVID-19 SYMPTOMS, PLEASE ANSWER RESPONSIBLY. \n",
      "Enter your name :Unnati\n",
      "Enter your age :80\n",
      "Have you travelled to abroad recently : no\n",
      "Are you experiencing any of the given problems : YES/NO\n",
      "Chest Pain : no\n",
      "Difficulty in breathing : yes\n",
      "Loss of speech : no\n",
      "Aches and pains or Sore throat or Diarrhoea : no\n",
      "Headache or Loss of taste or smell or Rash on skin : no\n",
      "Fever or Dry cough or Tiredness : yes\n",
      "-------------------------------------------------------------------------\n",
      "Unnati, IT SEEMS THAT YOU ARE HAVING SERIOUS SYMPTOMS OF COVID , WE HIGHLY RECOMMEND YOU TO CONSULT THE DOCTORS FOR FURTHER TREATMENT!\n"
     ]
    }
   ],
   "source": [
    "# function containing all the questions for test..\n",
    "def Test():\n",
    "    q1=input('Have you travelled to abroad recently : ')\n",
    "    print('Are you experiencing any of the given problems : YES/NO')\n",
    "    q2=input('Chest Pain : ')\n",
    "    q3=input('Difficulty in breathing : ')\n",
    "    q4=input('Loss of speech : ')\n",
    "    q5=input('Aches and pains or Sore throat or Diarrhoea : ')\n",
    "    q6=input('Headache or Loss of taste or smell or Rash on skin : ')\n",
    "    q7=input('Fever or Dry cough or Tiredness : ') \n",
    "    if q1==('yes'or'YES'):\n",
    "        print(name+', AS YOU HAVE TRAVELLED ABROAD WE ADVICE YOU TO CONSULT THE DOCTORS ONCE! ')\n",
    "    \n",
    "    else:\n",
    "        if(age>=60 or age<=10):\n",
    "            if(q2==('yes'or 'YES') or q3==('yes'or 'YES') or q4==('yes'or 'YES')):\n",
    "                flag=1\n",
    "            elif(q5==('yes' or 'YES') and q6==('yes' or 'YES')):\n",
    "                flag=1\n",
    "            elif(q6==('yes' or 'YES') and q7==('yes' or 'YES')):\n",
    "                flag=1\n",
    "            elif(q7==('yes' or 'YES') and q5==('yes' or 'YES')):\n",
    "                flag=1            \n",
    "            elif(q2==('no'or 'NO') and q3==('no'or 'NO') and q4==('no'or 'NO') and q5==('no'or 'NO') and q6==('no'or 'NO') and q7==('no'or 'NO')):\n",
    "                flag=2\n",
    "            else:                \n",
    "                flag=0\n",
    "        else:\n",
    "            if(q2==('yes'or 'YES') or q3==('yes'or 'YES') or q4==('yes'or 'YES')):\n",
    "                flag=1\n",
    "            elif(q2==('no'or 'NO') and q3==('no'or 'NO') and q4==('no'or 'NO') and q5==('no'or 'NO') and q6==('no'or 'NO') and q7==('no'or 'NO')):\n",
    "                flag=2\n",
    "            else:\n",
    "                flag=0\n",
    "        print('-------------------------------------------------------------------------')\n",
    "        if flag==1:\n",
    "            print(name+', IT SEEMS THAT YOU ARE HAVING SERIOUS SYMPTOMS OF COVID , WE HIGHLY RECOMMEND YOU TO CONSULT THE DOCTORS FOR FURTHER TREATMENT!')  \n",
    "        elif flag==2:\n",
    "            print(name + ', YOU ARE SAFE BUT IT IS ALWAYS GOOD TO TAKE HEALTHY DIET AND BOOST IMMUNITY!')\n",
    "        else:\n",
    "            print(name+', IT SEEMS THAT YOU ARE HAVING VERY MILD SYMPTOMS , WE RECOMMEND YOU TO STAY AT HOME AND TAKE A HEALTHY DIET TO BOOST YOUR IMMUNITY!')\n",
    "    \n",
    "    \n",
    "#Main program..\n",
    "print('HELLO! THIS IS YOUR SELF ASSESSMENT TEST FOR COVID-19 SYMPTOMS, PLEASE ANSWER RESPONSIBLY. ')\n",
    "name=input('Enter your name :')\n",
    "age=int(input('Enter your age :')) \n",
    "\n",
    "Test()   #function calling..           \n",
    "#end of main"
   ]
  },
  {
   "cell_type": "code",
   "execution_count": null,
   "metadata": {},
   "outputs": [],
   "source": []
  }
 ],
 "metadata": {
  "kernelspec": {
   "display_name": "Python 3",
   "language": "python",
   "name": "python3"
  },
  "language_info": {
   "codemirror_mode": {
    "name": "ipython",
    "version": 3
   },
   "file_extension": ".py",
   "mimetype": "text/x-python",
   "name": "python",
   "nbconvert_exporter": "python",
   "pygments_lexer": "ipython3",
   "version": "3.7.6"
  }
 },
 "nbformat": 4,
 "nbformat_minor": 4
}
