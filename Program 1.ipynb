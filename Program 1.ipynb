{
 "cells": [
  {
   "cell_type": "markdown",
   "metadata": {},
   "source": [
    "# Small program for detecting symptoms of COVID-19 in a person."
   ]
  },
  {
   "cell_type": "code",
   "execution_count": 5,
   "metadata": {},
   "outputs": [
    {
     "name": "stdout",
     "output_type": "stream",
     "text": [
      "HELLO! THIS IS YOUR SELF ASSESSMENT TEST FOR COVID-19 SYMPTOMS, PLEASE ANSWER RESPONSIBLY. \n",
      "Enter your name :Jahnvi\n",
      "Enter your age :19\n",
      "Are you experiencing any of the given symptoms: 1)High Fever 2)Dry Cough 3)Sore Throat 4)Difficulty in breathing ?\n",
      "YES/NO :yes\n",
      "NAME :  Jahnvi\n",
      "AGE :  19\n",
      "YOU MAY BE INFECTED BY THE CORONAVIRUS , WE ADVICE YOU TO VISIT YOUR NEARBY HOSPITAL. TAKE CARE !\n"
     ]
    }
   ],
   "source": [
    "print('HELLO! THIS IS YOUR SELF ASSESSMENT TEST FOR COVID-19 SYMPTOMS, PLEASE ANSWER RESPONSIBLY. ')\n",
    "name=input('Enter your name :')\n",
    "age=input('Enter your age :')\n",
    "que=print('Are you experiencing any of the given symptoms: 1)High Fever 2)Dry Cough 3)Sore Throat 4)Difficulty in breathing ?')\n",
    "ans=input(\"YES/NO :\")\n",
    "print('NAME : ',name)\n",
    "print('AGE : ',age)\n",
    "if ans=='YES'or ans=='yes':\n",
    "    print('YOU MAY BE INFECTED BY THE CORONAVIRUS , WE ADVICE YOU TO VISIT YOUR NEARBY HOSPITAL. TAKE CARE !')\n",
    "else:\n",
    "    print('YOU ARE SAFE. TAKE CARE !')\n",
    "    "
   ]
  },
  {
   "cell_type": "code",
   "execution_count": null,
   "metadata": {},
   "outputs": [],
   "source": []
  }
 ],
 "metadata": {
  "kernelspec": {
   "display_name": "Python 3",
   "language": "python",
   "name": "python3"
  },
  "language_info": {
   "codemirror_mode": {
    "name": "ipython",
    "version": 3
   },
   "file_extension": ".py",
   "mimetype": "text/x-python",
   "name": "python",
   "nbconvert_exporter": "python",
   "pygments_lexer": "ipython3",
   "version": "3.7.6"
  }
 },
 "nbformat": 4,
 "nbformat_minor": 4
}
